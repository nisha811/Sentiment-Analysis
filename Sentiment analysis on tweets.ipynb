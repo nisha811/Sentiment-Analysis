{
 "cells": [
  {
   "cell_type": "code",
   "execution_count": 1,
   "metadata": {},
   "outputs": [],
   "source": [
    "import tweepy\n",
    "from tweepy import Stream\n",
    "from tweepy import OAuthHandler\n",
    "from tweepy.streaming import StreamListener\n",
    "import pandas as pd\n",
    "import numpy as np"
   ]
  },
  {
   "cell_type": "code",
   "execution_count": 2,
   "metadata": {},
   "outputs": [],
   "source": [
    "#Consumer Key (API Key): \n",
    "ckey = \"GPHVThhhLAP46vGqNAENyPIIL\"\n",
    "#Consumer Secret (API Secret): \n",
    "csecret = \"mVrIj6VUpwfugXK96fUVmDUfR2doCfLlz2tAsPAwtTTZN2fOpH\"\n",
    "#Access Token: \n",
    "atoken = \"964140417666240518-7wNihdAzG8Ub9WImwOZRoT2eg4Pc148\"\n",
    "#Access Token Secret:\n",
    "asecret = \"rl13vLlIgbUCTMv6rf6XVxjmJDVrgXsLB3VMs2HjnPpgz\""
   ]
  },
  {
   "cell_type": "code",
   "execution_count": 3,
   "metadata": {},
   "outputs": [],
   "source": [
    "OAUTH_KEYS = {'consumer_key':ckey, 'consumer_secret':csecret,'access_token_key':atoken, 'access_token_secret':asecret}\n",
    "\n",
    "auth = tweepy.OAuthHandler(OAUTH_KEYS['consumer_key'], OAUTH_KEYS['consumer_secret'])\n",
    "\n",
    "api = tweepy.API(auth)\n",
    "\n",
    "infinity = tweepy.Cursor(api.search, q='#AvengersInfinityWar', tweet_mode='extended', lang = \"en\").items(1000) \n",
    "\n",
    "avengers = pd.DataFrame()\n",
    "times = []\n",
    "tweeter = []\n",
    "language = []\n",
    "for tweet in infinity:\n",
    "    tweeter.append(tweet.full_text)\n",
    "    \n",
    "    \n",
    "avengers['Tweet'] = tweeter"
   ]
  },
  {
   "cell_type": "code",
   "execution_count": 4,
   "metadata": {},
   "outputs": [
    {
     "data": {
      "text/html": [
       "<div>\n",
       "<style scoped>\n",
       "    .dataframe tbody tr th:only-of-type {\n",
       "        vertical-align: middle;\n",
       "    }\n",
       "\n",
       "    .dataframe tbody tr th {\n",
       "        vertical-align: top;\n",
       "    }\n",
       "\n",
       "    .dataframe thead th {\n",
       "        text-align: right;\n",
       "    }\n",
       "</style>\n",
       "<table border=\"1\" class=\"dataframe\">\n",
       "  <thead>\n",
       "    <tr style=\"text-align: right;\">\n",
       "      <th></th>\n",
       "      <th>Tweet</th>\n",
       "    </tr>\n",
       "  </thead>\n",
       "  <tbody>\n",
       "    <tr>\n",
       "      <th>0</th>\n",
       "      <td>RT @isyuniarto: It's a great honor to give the...</td>\n",
       "    </tr>\n",
       "    <tr>\n",
       "      <th>1</th>\n",
       "      <td>RT @itisprashanth: Just 6 to go. Fans are wait...</td>\n",
       "    </tr>\n",
       "    <tr>\n",
       "      <th>2</th>\n",
       "      <td>#AvengersInfinityWar Grand Worldwide Release o...</td>\n",
       "    </tr>\n",
       "    <tr>\n",
       "      <th>3</th>\n",
       "      <td>RT @MCU_Tweets: #AvengersInfinityWar Week on @...</td>\n",
       "    </tr>\n",
       "    <tr>\n",
       "      <th>4</th>\n",
       "      <td>@starbuck13502 That's ridiculous. With #Avenge...</td>\n",
       "    </tr>\n",
       "  </tbody>\n",
       "</table>\n",
       "</div>"
      ],
      "text/plain": [
       "                                               Tweet\n",
       "0  RT @isyuniarto: It's a great honor to give the...\n",
       "1  RT @itisprashanth: Just 6 to go. Fans are wait...\n",
       "2  #AvengersInfinityWar Grand Worldwide Release o...\n",
       "3  RT @MCU_Tweets: #AvengersInfinityWar Week on @...\n",
       "4  @starbuck13502 That's ridiculous. With #Avenge..."
      ]
     },
     "execution_count": 4,
     "metadata": {},
     "output_type": "execute_result"
    }
   ],
   "source": [
    "avengers.head(5)"
   ]
  },
  {
   "cell_type": "code",
   "execution_count": 5,
   "metadata": {},
   "outputs": [],
   "source": [
    "\n",
    "\n",
    "OAUTH_KEYS = {'consumer_key':ckey, 'consumer_secret':csecret,'access_token_key':atoken, 'access_token_secret':asecret}\n",
    "\n",
    "auth = tweepy.OAuthHandler(OAUTH_KEYS['consumer_key'], OAUTH_KEYS['consumer_secret'])\n",
    "\n",
    "api = tweepy.API(auth)\n",
    "\n",
    "war = tweepy.Cursor(api.search, q='#SyrianWar', tweet_mode='extended', lang = \"en\").items(1000) \n",
    "\n",
    "syria = pd.DataFrame()\n",
    "times = []\n",
    "tweeter = []\n",
    "language = []\n",
    "for tweet in war:\n",
    "    tweeter.append(tweet.full_text)\n",
    "    \n",
    "    \n",
    "syria['Tweet'] = tweeter"
   ]
  },
  {
   "cell_type": "code",
   "execution_count": 6,
   "metadata": {},
   "outputs": [
    {
     "data": {
      "text/html": [
       "<div>\n",
       "<style scoped>\n",
       "    .dataframe tbody tr th:only-of-type {\n",
       "        vertical-align: middle;\n",
       "    }\n",
       "\n",
       "    .dataframe tbody tr th {\n",
       "        vertical-align: top;\n",
       "    }\n",
       "\n",
       "    .dataframe thead th {\n",
       "        text-align: right;\n",
       "    }\n",
       "</style>\n",
       "<table border=\"1\" class=\"dataframe\">\n",
       "  <thead>\n",
       "    <tr style=\"text-align: right;\">\n",
       "      <th></th>\n",
       "      <th>Tweet</th>\n",
       "    </tr>\n",
       "  </thead>\n",
       "  <tbody>\n",
       "    <tr>\n",
       "      <th>0</th>\n",
       "      <td>@SoniaKatiMota @waybackmachine @internetarchiv...</td>\n",
       "    </tr>\n",
       "    <tr>\n",
       "      <th>1</th>\n",
       "      <td>Good✔ milestone..but still U guys were not abl...</td>\n",
       "    </tr>\n",
       "    <tr>\n",
       "      <th>2</th>\n",
       "      <td>RT @SputnikNewsUS: 'PM is lying': Norwegian TV...</td>\n",
       "    </tr>\n",
       "    <tr>\n",
       "      <th>3</th>\n",
       "      <td>#sahouraxo i know Y ur trying 2 lock me from @...</td>\n",
       "    </tr>\n",
       "    <tr>\n",
       "      <th>4</th>\n",
       "      <td>@SoniaKatiMota Here is a capture of the origin...</td>\n",
       "    </tr>\n",
       "  </tbody>\n",
       "</table>\n",
       "</div>"
      ],
      "text/plain": [
       "                                               Tweet\n",
       "0  @SoniaKatiMota @waybackmachine @internetarchiv...\n",
       "1  Good✔ milestone..but still U guys were not abl...\n",
       "2  RT @SputnikNewsUS: 'PM is lying': Norwegian TV...\n",
       "3  #sahouraxo i know Y ur trying 2 lock me from @...\n",
       "4  @SoniaKatiMota Here is a capture of the origin..."
      ]
     },
     "execution_count": 6,
     "metadata": {},
     "output_type": "execute_result"
    }
   ],
   "source": [
    "syria.head(5)"
   ]
  },
  {
   "cell_type": "code",
   "execution_count": 7,
   "metadata": {},
   "outputs": [],
   "source": [
    "avengers.to_csv('C:/Users/nisha/Documents/DATA 902/NLP/Project/avengers.csv')\n",
    "syria.to_csv('C:/Users/nisha/Documents/DATA 902/NLP/Project/syria.csv')"
   ]
  },
  {
   "cell_type": "code",
   "execution_count": 8,
   "metadata": {},
   "outputs": [],
   "source": [
    "avengers.to_csv(r'C:/Users/nisha/Documents/DATA 902/NLP/Project/avengers.txt', header=None, index=None, sep=' ')\n",
    "syria.to_csv(r'C:/Users/nisha/Documents/DATA 902/NLP/Project/syria.txt', header=None, index=None, sep=' ')"
   ]
  },
  {
   "cell_type": "code",
   "execution_count": null,
   "metadata": {},
   "outputs": [],
   "source": []
  }
 ],
 "metadata": {
  "kernelspec": {
   "display_name": "Python 3",
   "language": "python",
   "name": "python3"
  },
  "language_info": {
   "codemirror_mode": {
    "name": "ipython",
    "version": 3
   },
   "file_extension": ".py",
   "mimetype": "text/x-python",
   "name": "python",
   "nbconvert_exporter": "python",
   "pygments_lexer": "ipython3",
   "version": "3.6.4"
  }
 },
 "nbformat": 4,
 "nbformat_minor": 2
}
